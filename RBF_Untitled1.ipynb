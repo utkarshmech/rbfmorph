{
 "cells": [
  {
   "cell_type": "markdown",
   "metadata": {},
   "source": [
    "## Testing Mesh motion of single step static simulation "
   ]
  },
  {
   "cell_type": "markdown",
   "metadata": {},
   "source": [
    "RBF shape parametrization technique is based on the definition of a map, $\\mathcal{M}(\\boldsymbol{x}) : \\mathbb{R}^n \\rightarrow \\mathbb{R}^n, $that allows the possibility of transferring data across non-matching grids and facing the dynamic mesh handling. The map introduced is defines as follows\n",
    "$$\n",
    "\\mathcal{M}(\\boldsymbol{x}) = p(\\boldsymbol{x}) + \\sum_{i=1}^{\\mathcal{N}_C} \\gamma_i \\varphi(\\| \\boldsymbol{x} - \\boldsymbol{x_{C_i}} \\|)\n",
    "$$\n",
    "where $p(\\boldsymbol{x})$ is a low_degree polynomial term, $\\gamma_i$ is the weight, corresponding to the a-priori selected $\\mathcal{N}_C $ control points, associated to the i-th basis function, and $\\varphi(\\| \\boldsymbol{x} - \\boldsymbol{x_{C_i}} \\|)$ a radial function based on the Euclidean distance between the control points position $\\boldsymbol{x_{C_i}}$ and $\\boldsymbol{x}.$ A radial basis function, generally, is a real-valued function whose value depends only on the distance from the origin, so that $\\varphi(\\boldsymbol{x}) = \\tilde{\\varphi}(\\| \\boldsymbol{x} \\|).$\n",
    "\n",
    "The matrix version of the formula above is:\n",
    "\n",
    "$\\mathcal{M}(\\boldsymbol{x}) = \\boldsymbol{c} + \\boldsymbol{Q}\\boldsymbol{x} + \\boldsymbol{W^T}\\boldsymbol{d}(\\boldsymbol{x})$\n",
    "\n",
    "The idea is that after the computation of the weights and the polynomial terms from the coordinates of the control points before and after the deformation, we can deform all the points of the mesh accordingly. Among the most common used radial basis functions for modelling 2D and 3D shapes, we consider Gaussian splines, Multi-quadratic biharmonic splines, Inverted multi-quadratic biharmonic splines, Thin-plate splines, Beckert and Wendland C^2 basis and Polyharmonic splines all defined and implemented below."
   ]
  },
  {
   "cell_type": "code",
   "execution_count": 1,
   "metadata": {},
   "outputs": [],
   "source": [
    "from dolfin import *"
   ]
  },
  {
   "cell_type": "code",
   "execution_count": 2,
   "metadata": {},
   "outputs": [],
   "source": [
    "def solve_linear_elasticity(mesh, boundaries, d):\n",
    "    c = Constant(d)\n",
    "\n",
    "    V = VectorFunctionSpace(mesh, \"Lagrange\", 1)\n",
    "    u = TrialFunction(V)\n",
    "    v = TestFunction(V)\n",
    "\n",
    "    E, nu = 10.0, 0.3\n",
    "    mu = E/(2.0*(1.0 + nu))\n",
    "    lmbda = E*nu/((1.0 + nu)*(1.0 -2.0*nu))\n",
    "    sigma = 2*mu*sym(grad(u)) + lmbda*tr(grad(u))*Identity(3)\n",
    "    F = inner(sigma, grad(v))*dx \n",
    "    a, L = lhs(F), rhs(F)\n",
    "\n",
    "    bcs = [DirichletBC(V, Constant((0.0, 0.0, 0.0)), boundaries, 1),\n",
    "           DirichletBC(V.sub(0), c, boundaries, 2)]\n",
    "\n",
    "    displacement = Function(V)\n",
    "    solve(a==L, displacement, bcs)\n",
    "    return displacement"
   ]
  },
  {
   "cell_type": "markdown",
   "metadata": {},
   "source": [
    "Mesh update"
   ]
  },
  {
   "cell_type": "code",
   "execution_count": 3,
   "metadata": {},
   "outputs": [],
   "source": [
    "def update_mesh(mesh, displacement, boundaries):\n",
    "\n",
    "    new_mesh = Mesh(mesh)\n",
    "    new_boundaries = MeshFunction(\"size_t\", new_mesh, 2)\n",
    "    new_boundaries.set_values(boundaries.array())\n",
    "    ALE.move(new_mesh, displacement)\n",
    "    return new_mesh, new_boundaries"
   ]
  },
  {
   "cell_type": "code",
   "execution_count": 4,
   "metadata": {},
   "outputs": [],
   "source": [
    "# Original mesh\n",
    "mesh = UnitCubeMesh(8, 8, 8)\n",
    "subdomain1 = CompiledSubDomain(\"near(x[1], 0)\")\n",
    "subdomain2 = CompiledSubDomain(\"near(x[1], 1)\")\n",
    "boundaries = MeshFunction(\"size_t\", mesh, 2)\n",
    "boundaries.set_all(0)\n",
    "subdomain1.mark(boundaries, 1)\n",
    "subdomain2.mark(boundaries, 2)\n",
    "# plot(mesh, title = \"Original mesh\")"
   ]
  },
  {
   "cell_type": "markdown",
   "metadata": {},
   "source": [
    "## visualisation in paraview"
   ]
  },
  {
   "cell_type": "code",
   "execution_count": 6,
   "metadata": {},
   "outputs": [],
   "source": [
    "file1= XDMFFile('results/uu_1.xdmf')\n",
    "file1.parameters[\"flush_output\"] = True\n",
    "file1.write(mesh)"
   ]
  },
  {
   "cell_type": "code",
   "execution_count": 8,
   "metadata": {},
   "outputs": [],
   "source": [
    "# First iteration (accepted)\n",
    "displacement1 = solve_linear_elasticity(mesh, boundaries, 0.1)\n",
    "mesh1, boundaries1 = update_mesh(mesh, displacement1, boundaries)\n",
    "# plot(mesh1, title = \"First iteration (accepted)\")\n",
    "\n",
    "file2= XDMFFile('results/uu_2.xdmf')\n",
    "file1.parameters[\"flush_output\"] = True\n",
    "file1.write(mesh1)\n",
    "\n",
    "# # Second iteration\n",
    "# displacement2 = solve_linear_elasticity(mesh1, boundaries1, 0.5)\n",
    "# mesh2, boundaries2 = update_mesh(mesh1, displacement2, boundaries1)\n",
    "# plot(mesh2, title = \"Second iteration (rejected)\")\n",
    "\n",
    "# # Something went wrong move mesh back to previous\n",
    "# displacement3 = Function(displacement2.function_space())\n",
    "# displacement3.vector()[:] = -1.0*displacement2.vector()\n",
    "# mesh3, boundaries3 = update_mesh(mesh2, displacement3, boundaries2)\n",
    "# plot(mesh3, title = \"Moved back from second iteration (same as first iteration)\")\n",
    "\n",
    "# from numpy.linalg import norm as np_norm\n",
    "# print (np_norm(mesh3.coordinates() - mesh1.coordinates()))\n",
    "\n",
    "# interactive()"
   ]
  },
  {
   "cell_type": "code",
   "execution_count": null,
   "metadata": {},
   "outputs": [],
   "source": []
  }
 ],
 "metadata": {
  "kernelspec": {
   "display_name": "fenicsker",
   "language": "python",
   "name": "fenicsker"
  },
  "language_info": {
   "codemirror_mode": {
    "name": "ipython",
    "version": 3
   },
   "file_extension": ".py",
   "mimetype": "text/x-python",
   "name": "python",
   "nbconvert_exporter": "python",
   "pygments_lexer": "ipython3",
   "version": "3.8.5"
  }
 },
 "nbformat": 4,
 "nbformat_minor": 4
}
