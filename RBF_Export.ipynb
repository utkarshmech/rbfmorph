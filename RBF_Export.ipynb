{
 "cells": [
  {
   "cell_type": "markdown",
   "metadata": {},
   "source": [
    "## Code for Exporting the point clouds to vtk"
   ]
  },
  {
   "cell_type": "code",
   "execution_count": 16,
   "metadata": {},
   "outputs": [],
   "source": [
    "#import the required modules\n",
    "import numpy as np\n",
    "from pyevtk.hl import *"
   ]
  },
  {
   "cell_type": "code",
   "execution_count": 24,
   "metadata": {},
   "outputs": [],
   "source": [
    "#general point cloud\n",
    "nx, ny, nz = (10, 10, 10)\n",
    "mesh = np.zeros((nx * ny * nz, 3))\n",
    "\n",
    "xv = np.linspace(0, 1, nx)\n",
    "yv = np.linspace(0, 1, ny)\n",
    "zv = np.linspace(0, 1, nz)\n",
    "z_1, y_1, x_1 = np.meshgrid(zv, yv, xv)"
   ]
  },
  {
   "cell_type": "code",
   "execution_count": 25,
   "metadata": {},
   "outputs": [
    {
     "data": {
      "text/plain": [
       "(10, 10, 10)"
      ]
     },
     "execution_count": 25,
     "metadata": {},
     "output_type": "execute_result"
    }
   ],
   "source": [
    "z_1.shape"
   ]
  },
  {
   "cell_type": "code",
   "execution_count": 26,
   "metadata": {},
   "outputs": [
    {
     "data": {
      "text/plain": [
       "'/home/utkarsh/Documents/Python_code/mesh_motion/PyGeM-master/rnd_points.vtu'"
      ]
     },
     "execution_count": 26,
     "metadata": {},
     "output_type": "execute_result"
    }
   ],
   "source": [
    "# Import the export to vtk module\n",
    "from pyevtk.hl import pointsToVTK\n",
    "# import numpy as np\n",
    "\n",
    "# Example 1\n",
    "npoints = 1000\n",
    "x = np.random.rand(npoints)\n",
    "y = np.random.rand(npoints)\n",
    "z = np.random.rand(npoints)\n",
    "pressure = np.random.rand(npoints)\n",
    "temp = np.random.rand(npoints)\n",
    "# define the path\n",
    "pointsToVTK(\"./rnd_points\", x_1, y_1, z_1, data={\"temp\": temp, \"pressure\": pressure})\n"
   ]
  },
  {
   "cell_type": "code",
   "execution_count": null,
   "metadata": {},
   "outputs": [],
   "source": []
  }
 ],
 "metadata": {
  "kernelspec": {
   "display_name": "fenicsker",
   "language": "python",
   "name": "fenicsker"
  },
  "language_info": {
   "codemirror_mode": {
    "name": "ipython",
    "version": 3
   },
   "file_extension": ".py",
   "mimetype": "text/x-python",
   "name": "python",
   "nbconvert_exporter": "python",
   "pygments_lexer": "ipython3",
   "version": "3.8.5"
  }
 },
 "nbformat": 4,
 "nbformat_minor": 4
}
