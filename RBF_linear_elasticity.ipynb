{
 "cells": [
  {
   "cell_type": "code",
   "execution_count": 1,
   "metadata": {},
   "outputs": [],
   "source": [
    "#import the required libraries\n",
    "import numpy as np\n",
    "import matplotlib.pyplot as pl\n",
    "from dolfin import *\n",
    "import meshio"
   ]
  },
  {
   "cell_type": "code",
   "execution_count": 3,
   "metadata": {},
   "outputs": [],
   "source": [
    "## Import the mesh file\n",
    "msh = meshio.read(\"meshings/slot_rbf2.msh\")\n",
    "\n",
    "for key in msh.cell_data_dict[\"gmsh:physical\"].keys():\n",
    "    if key == \"triangle\":\n",
    "        triangle_data = msh.cell_data_dict[\"gmsh:physical\"][key]\n",
    "    elif key == \"tetra\":\n",
    "        tetra_data = msh.cell_data_dict[\"gmsh:physical\"][key]\n",
    "for cell in msh.cells:\n",
    "    if cell.type == \"tetra\":\n",
    "        tetra_cells = cell.data\n",
    "    elif cell.type == \"triangle\":\n",
    "        triangle_cells = cell.data\n",
    "tetra_mesh = meshio.Mesh(points=msh.points, cells={\"tetra\": tetra_cells},\n",
    "                         cell_data={\"name_to_read\":[tetra_data]})\n",
    "triangle_mesh =meshio.Mesh(points=msh.points,\n",
    "                           cells=[(\"triangle\", triangle_cells)],\n",
    "                           cell_data={\"name_to_read\":[triangle_data]})\n",
    "meshio.write(\"plate.xdmf\", tetra_mesh)\n",
    "meshio.write(\"mf.xdmf\", triangle_mesh)\n",
    "\n",
    "from dolfin import *\n",
    "set_log_level(LogLevel.ERROR)\n",
    "\n",
    "mesh = Mesh()\n",
    "with XDMFFile(\"plate.xdmf\") as infile:\n",
    "    infile.read(mesh)\n",
    "mvc = MeshValueCollection(\"size_t\", mesh, 2)\n",
    "with XDMFFile(\"mf.xdmf\") as infile:\n",
    "    infile.read(mvc, \"name_to_read\")\n",
    "# define the facet meshes\n",
    "mf = cpp.mesh.MeshFunctionSizet(mesh, mvc)\n",
    "\n",
    "mvc2 = MeshValueCollection(\"size_t\", mesh, 3)\n",
    "with XDMFFile(\"plate.xdmf\") as infile:\n",
    "    infile.read(mvc2, \"name_to_read\")\n",
    "#define the cells meshes    \n",
    "cf = cpp.mesh.MeshFunctionSizet(mesh, mvc2)"
   ]
  },
  {
   "cell_type": "code",
   "execution_count": null,
   "metadata": {},
   "outputs": [],
   "source": [
    "from dolfin import *\n",
    "# Scaled variables for cantilever beam\n",
    "L = 1; W = 0.2\n",
    "mu = 1\n",
    "rho = 1\n",
    "delta = W/L\n",
    "gamma = 0.4*delta**2\n",
    "beta = 1.25\n",
    "lambda_ = beta\n",
    "g = gamma\n",
    "\n",
    "# Create mesh and define function space\n",
    "V = FunctionSpace(mesh, 'P', 2)\n",
    "\n",
    "# Define boundary condition\n",
    "tol = 1E-14\n",
    "\n",
    "\n",
    "bc = DirichletBC(V, Constant((0, 0, 0)),mf, 1)\n",
    "\n",
    "# Define strain and stress\n",
    "\n",
    "def epsilon(u):\n",
    "    return 0.5*(nabla_grad(u) + nabla_grad(u).T)\n",
    "    #return sym(nabla_grad(u))\n",
    "\n",
    "def sigma(u):\n",
    "    return lambda_*nabla_div(u)*Identity(d) + 2*mu*epsilon(u)\n",
    "\n",
    "\n",
    "ds = Measure(\"ds\", domain=mesh, subdomain_data=mf)\n",
    "dS = Measure(\"dS\", domain=mesh, subdomain_data=mf)\n",
    "\n",
    "# Compute solution\n",
    "# Define variational problem\n",
    "u = TrialFunction(V)\n",
    "d = u.geometric_dimension()  # space dimension\n",
    "v = TestFunction(V)\n",
    "f = Constant((0, 0, -rho*g))\n",
    "T = Constant((0, 0, 0))\n",
    "a = inner(sigma(u), epsilon(v))*dx\n",
    "L = dot(f, v)*dx + dot(T, v)*ds(2)\n",
    "\n",
    "u = Function(V)\n",
    "solve(a == L, u, bc)\n",
    "\n",
    "file1= XDMFFile('results/u1.xdmf')\n",
    "file1.parameters[\"flush_output\"] = True\n",
    "file1.write(u)\n",
    "# # Plot solution\n",
    "# plot(u, title='Displacement', mode='displacement')\n"
   ]
  },
  {
   "cell_type": "code",
   "execution_count": null,
   "metadata": {},
   "outputs": [],
   "source": [
    "# define a degree of freedom map\n",
    "v2d = vertex_to_dof_map(V)\n",
    "dofs = []\n",
    "for facet in facets(mesh):\n",
    "    if mf[facet.index()] == 1:\n",
    "        vertices = facet.entities(0)\n",
    "        for vertex in vertices:\n",
    "            dofs.append(v2d[vertex])\n",
    "\n",
    "unique_dofs = np.array(list(set(dofs)), dtype=np.int32)\n",
    "boundary_coords = V.tabulate_dof_coordinates()[unique_dofs]\n",
    "N=len(boundary_coords[:,1])\n",
    "g=np.zeros((N,3))\n",
    "for i, dof in enumerate(unique_dofs):\n",
    "    g[i,0]=u.vector()[dof]\n",
    "#     print(boundary_coords[i], v.vector()[dof])\n"
   ]
  },
  {
   "cell_type": "code",
   "execution_count": 3,
   "metadata": {},
   "outputs": [
    {
     "data": {
      "text/plain": [
       "(56, 3)"
      ]
     },
     "execution_count": 3,
     "metadata": {},
     "output_type": "execute_result"
    }
   ],
   "source": [
    "g.shape"
   ]
  },
  {
   "cell_type": "code",
   "execution_count": 4,
   "metadata": {},
   "outputs": [],
   "source": [
    "# define coordinates and control points \n",
    "coor=V.tabulate_dof_coordinates()\n",
    "num_coor=len(coor[:,1])\n",
    "ctr_pts=np.array(boundary_coords)"
   ]
  },
  {
   "cell_type": "code",
   "execution_count": 5,
   "metadata": {},
   "outputs": [],
   "source": [
    "# nx, ny, nz = (10, 10, 10)\n",
    "# mesh = np.zeros((nx * ny * nz, 3))\n",
    "\n",
    "# xv = np.linspace(0, 1, nx)\n",
    "# yv = np.linspace(0, 1, ny)\n",
    "# zv = np.linspace(0, 1, nz)\n",
    "# z_1, y_1, x_1 = np.meshgrid(zv, yv, xv)\n",
    "\n",
    "# # mesh = np.array([x.ravel(), y.ravel(), z.ravel()])\n",
    "# # mesh = mesh.T"
   ]
  },
  {
   "cell_type": "code",
   "execution_count": 6,
   "metadata": {},
   "outputs": [],
   "source": [
    "# num_coor=len(x_1.flatten())\n",
    "# coor=np.zeros((num_coor,3))\n",
    "# coor[:,0]=x_1.flatten()\n",
    "# coor[:,1]=y_1.flatten()\n",
    "# coor[:,2]=z_1.flatten()"
   ]
  },
  {
   "cell_type": "code",
   "execution_count": null,
   "metadata": {},
   "outputs": [],
   "source": [
    "#Plot in matplotlib\n",
    "fig = pl.figure(1)\n",
    "ax = fig.add_subplot(111, projection='3d')\n",
    "ax.scatter(coor[:, 0], coor[:, 1], coor[:, 2], c='blue', marker='o')\n",
    "ax.set_xlabel('X axis')\n",
    "ax.set_ylabel('Y axis')\n",
    "ax.set_zlabel('Z axis')\n",
    "pl.show()"
   ]
  },
  {
   "cell_type": "code",
   "execution_count": 8,
   "metadata": {},
   "outputs": [],
   "source": [
    "# N=len(ctr_pts)\n",
    "# g=np.zeros((N,3))\n",
    "# for i in range(N):\n",
    "#     g[i,0]="
   ]
  },
  {
   "cell_type": "code",
   "execution_count": 9,
   "metadata": {},
   "outputs": [],
   "source": [
    "# define the P matrix from control points \n",
    "P=np.zeros((N,4))\n",
    "for i in range(N):\n",
    "    for j in range(4):\n",
    "        if (j==0): P[i,j]=1\n",
    "        else: P[i,j]=ctr_pts[i,j-1]\n",
    "# known displacements\n"
   ]
  },
  {
   "cell_type": "code",
   "execution_count": 10,
   "metadata": {},
   "outputs": [
    {
     "data": {
      "text/plain": [
       "(56, 4)"
      ]
     },
     "execution_count": 10,
     "metadata": {},
     "output_type": "execute_result"
    }
   ],
   "source": [
    "P.shape"
   ]
  },
  {
   "cell_type": "code",
   "execution_count": 11,
   "metadata": {},
   "outputs": [],
   "source": [
    "def rd(c1, c2):\n",
    "    return np.sqrt((c1[0]-c2[0])**2+(c1[1]-c2[1])**2+(c1[2]-c2[2])**2)\n",
    "#rbf as global support spline type\n",
    "def rbf(r):\n",
    "    return np.exp(-r**2)"
   ]
  },
  {
   "cell_type": "code",
   "execution_count": 12,
   "metadata": {},
   "outputs": [],
   "source": [
    "# # define lhs RBF kernel \n",
    "def M(coor,ctr_pts):\n",
    "    M_m=np.zeros((N,N))\n",
    "    for i in range(N):\n",
    "        for j in range(N):\n",
    "            M_m[i,j]=rbf(rd(ctr_pts[i],ctr_pts[j]))\n",
    "    return M_m\n",
    "# formulate the lhs part of the systems of linear equations to be dolved for coefficients\n",
    "def lhs_(P,M_m):\n",
    "    lhs=np.zeros((N+4,N+4))\n",
    "    P_t=np.transpose(P)\n",
    "    for i in range(N+4):\n",
    "        for j in range(N+4):\n",
    "            if (i<N and j<N): lhs[i,j]=M_m[i,j]\n",
    "            elif (i<N and j>(N-1)): lhs[i, j]=P[i,j-N]\n",
    "            elif (i>(N-1) and j<N):lhs[i,j]= P_t[i-N,j]\n",
    "    return lhs\n",
    "# Solve for the coefficents \n",
    "def sol_yb(lhs, g):\n",
    "    rhs=np.zeros((N+4,3))\n",
    "    for i in range(N):\n",
    "        for j in range(3):    \n",
    "            rhs[i,j]=g[i,j]\n",
    "    \n",
    "    inv_lhs=np.linalg.inv(lhs)\n",
    "    yb= inv_lhs @ rhs\n",
    "    gmma=np.zeros((N,3))\n",
    "    beta=np.zeros((4,3))\n",
    "    for i in range(N+4):\n",
    "        if (i<N): gmma[i,:]=yb[i,:]\n",
    "        else : beta[i-N,:]=yb[i,:]\n",
    "    return (gmma, beta)\n",
    "                \n"
   ]
  },
  {
   "cell_type": "code",
   "execution_count": 13,
   "metadata": {},
   "outputs": [],
   "source": [
    "# calculating the new coordinates from the previous ones\n",
    "def s_x(ctr_pts, coor, beta, gmma):\n",
    "    s_x=np.zeros(3)\n",
    "    for i in range(3):\n",
    "        for j in range(N):\n",
    "            s_x[i]=s_x[i]+gmma[j,i]*rbf(rd(coor, ctr_pts[j]))\n",
    "        s_x[i]=s_x[i]+beta[0,i]*1 + beta[1,i]*coor[0] + coor[1]*beta[2,i] + coor[2]*beta[3,i]\n",
    "    return s_x"
   ]
  },
  {
   "cell_type": "markdown",
   "metadata": {},
   "source": [
    "### Calling the required functions and solving in order for individual points "
   ]
  },
  {
   "cell_type": "code",
   "execution_count": 14,
   "metadata": {},
   "outputs": [],
   "source": [
    "M_m=M(coor,ctr_pts)\n",
    "# M_m"
   ]
  },
  {
   "cell_type": "code",
   "execution_count": 15,
   "metadata": {},
   "outputs": [],
   "source": [
    "lhs=lhs_(P,M_m)\n",
    "# lhs"
   ]
  },
  {
   "cell_type": "code",
   "execution_count": 16,
   "metadata": {},
   "outputs": [],
   "source": [
    "gmma, beta=sol_yb(lhs, g)"
   ]
  },
  {
   "cell_type": "code",
   "execution_count": 17,
   "metadata": {},
   "outputs": [],
   "source": [
    "coor_new=np.zeros((num_coor,3))"
   ]
  },
  {
   "cell_type": "code",
   "execution_count": 18,
   "metadata": {},
   "outputs": [
    {
     "data": {
      "text/plain": [
       "array([1.26797065, 0.        , 0.        ])"
      ]
     },
     "execution_count": 18,
     "metadata": {},
     "output_type": "execute_result"
    }
   ],
   "source": [
    "cor_t=(1.0,1.0,1.0)\n",
    "s_x(ctr_pts, cor_t, beta, gmma)"
   ]
  },
  {
   "cell_type": "code",
   "execution_count": 19,
   "metadata": {},
   "outputs": [],
   "source": [
    "for i in range(num_coor):\n",
    "    coor_new[i,:]=coor[i,:]+s_x(ctr_pts, coor[i], beta, gmma)"
   ]
  },
  {
   "cell_type": "code",
   "execution_count": 20,
   "metadata": {},
   "outputs": [
    {
     "data": {
      "text/plain": [
       "(216, 3)"
      ]
     },
     "execution_count": 20,
     "metadata": {},
     "output_type": "execute_result"
    }
   ],
   "source": [
    "coor_new.shape"
   ]
  },
  {
   "cell_type": "code",
   "execution_count": null,
   "metadata": {},
   "outputs": [],
   "source": [
    "# plotting the deformed mesh in  \n",
    "fig = pl.figure(1)\n",
    "ax = fig.add_subplot(111, projection='3d')\n",
    "ax.scatter(coor_new[:, 0], coor_new[:, 1], coor_new[:, 2], c='blue', marker='o')\n",
    "ax.set_xlabel('X axis')\n",
    "ax.set_ylabel('Y axis')\n",
    "ax.set_zlabel('Z axis')\n",
    "pl.show()"
   ]
  },
  {
   "cell_type": "code",
   "execution_count": 7,
   "metadata": {},
   "outputs": [
    {
     "ename": "NameError",
     "evalue": "name 'pointsToVTK' is not defined",
     "output_type": "error",
     "traceback": [
      "\u001b[0;31m---------------------------------------------------------------------------\u001b[0m",
      "\u001b[0;31mNameError\u001b[0m                                 Traceback (most recent call last)",
      "\u001b[0;32m<ipython-input-7-b7bee5565026>\u001b[0m in \u001b[0;36m<module>\u001b[0;34m\u001b[0m\n\u001b[1;32m      5\u001b[0m \u001b[0mpressure\u001b[0m \u001b[0;34m=\u001b[0m \u001b[0mnp\u001b[0m\u001b[0;34m.\u001b[0m\u001b[0mrandom\u001b[0m\u001b[0;34m.\u001b[0m\u001b[0mrand\u001b[0m\u001b[0;34m(\u001b[0m\u001b[0mnpoints\u001b[0m\u001b[0;34m)\u001b[0m\u001b[0;34m\u001b[0m\u001b[0;34m\u001b[0m\u001b[0m\n\u001b[1;32m      6\u001b[0m \u001b[0mtemp\u001b[0m \u001b[0;34m=\u001b[0m \u001b[0mnp\u001b[0m\u001b[0;34m.\u001b[0m\u001b[0mlinspace\u001b[0m\u001b[0;34m(\u001b[0m\u001b[0;36m1\u001b[0m\u001b[0;34m,\u001b[0m\u001b[0mnpoints\u001b[0m\u001b[0;34m,\u001b[0m\u001b[0mnpoints\u001b[0m\u001b[0;34m)\u001b[0m\u001b[0;34m\u001b[0m\u001b[0;34m\u001b[0m\u001b[0m\n\u001b[0;32m----> 7\u001b[0;31m \u001b[0mpointsToVTK\u001b[0m\u001b[0;34m(\u001b[0m\u001b[0;34m\"./rnd_points\"\u001b[0m\u001b[0;34m,\u001b[0m \u001b[0mnp\u001b[0m\u001b[0;34m.\u001b[0m\u001b[0marray\u001b[0m\u001b[0;34m(\u001b[0m\u001b[0mcoor_new\u001b[0m\u001b[0;34m[\u001b[0m\u001b[0;34m:\u001b[0m\u001b[0;34m,\u001b[0m \u001b[0;36m0\u001b[0m\u001b[0;34m]\u001b[0m\u001b[0;34m)\u001b[0m\u001b[0;34m,\u001b[0m \u001b[0mnp\u001b[0m\u001b[0;34m.\u001b[0m\u001b[0marray\u001b[0m\u001b[0;34m(\u001b[0m\u001b[0mcoor_new\u001b[0m\u001b[0;34m[\u001b[0m\u001b[0;34m:\u001b[0m\u001b[0;34m,\u001b[0m \u001b[0;36m1\u001b[0m\u001b[0;34m]\u001b[0m\u001b[0;34m)\u001b[0m\u001b[0;34m,\u001b[0m \u001b[0mnp\u001b[0m\u001b[0;34m.\u001b[0m\u001b[0marray\u001b[0m\u001b[0;34m(\u001b[0m\u001b[0mcoor_new\u001b[0m\u001b[0;34m[\u001b[0m\u001b[0;34m:\u001b[0m\u001b[0;34m,\u001b[0m \u001b[0;36m2\u001b[0m\u001b[0;34m]\u001b[0m\u001b[0;34m)\u001b[0m\u001b[0;34m,\u001b[0m \u001b[0mdata\u001b[0m\u001b[0;34m=\u001b[0m\u001b[0;34m{\u001b[0m\u001b[0;34m\"temp\"\u001b[0m\u001b[0;34m:\u001b[0m \u001b[0mtemp\u001b[0m\u001b[0;34m,\u001b[0m \u001b[0;34m\"pressure\"\u001b[0m\u001b[0;34m:\u001b[0m \u001b[0mpressure\u001b[0m\u001b[0;34m}\u001b[0m\u001b[0;34m)\u001b[0m\u001b[0;34m\u001b[0m\u001b[0;34m\u001b[0m\u001b[0m\n\u001b[0m",
      "\u001b[0;31mNameError\u001b[0m: name 'pointsToVTK' is not defined"
     ]
    }
   ],
   "source": [
    "# Export to VTK\n",
    "from pyevtk.hl import pointsToVTK\n",
    "import numpy as np\n",
    "# Example 1\n",
    "npoints = 216\n",
    "pressure = np.random.rand(npoints)\n",
    "temp = np.linspace(1,npoints,npoints)\n",
    "pointsToVTK(\"./rnd_points\", np.array(coor_new[:, 0]), np.array(coor_new[:, 1]), np.array(coor_new[:, 2]), data={\"temp\": temp, \"pressure\": pressure})"
   ]
  },
  {
   "cell_type": "code",
   "execution_count": null,
   "metadata": {},
   "outputs": [],
   "source": []
  }
 ],
 "metadata": {
  "kernelspec": {
   "display_name": "fenicsker",
   "language": "python",
   "name": "fenicsker"
  },
  "language_info": {
   "codemirror_mode": {
    "name": "ipython",
    "version": 3
   },
   "file_extension": ".py",
   "mimetype": "text/x-python",
   "name": "python",
   "nbconvert_exporter": "python",
   "pygments_lexer": "ipython3",
   "version": "3.8.5"
  }
 },
 "nbformat": 4,
 "nbformat_minor": 4
}
