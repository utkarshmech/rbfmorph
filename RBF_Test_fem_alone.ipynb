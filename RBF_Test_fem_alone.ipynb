{
 "cells": [
  {
   "cell_type": "markdown",
   "metadata": {},
   "source": [
    "## Test code for defining an indpendent simple fem simulation  "
   ]
  },
  {
   "cell_type": "code",
   "execution_count": 4,
   "metadata": {},
   "outputs": [
    {
     "name": "stdout",
     "output_type": "stream",
     "text": [
      "[0. 0. 1.] 0.9951197728380257\n",
      "[0.  0.  0.8] 0.794865277732957\n",
      "[0.2 0.2 1. ] 1.0368804569557282\n",
      "[0.2 0.  1. ] 0.9980147196352503\n",
      "[0.  0.2 1. ] 0.9980147196352502\n",
      "[0.  0.  0.6] 0.5951651995296948\n",
      "[0.2 0.4 0. ] 0.07672562571440637\n",
      "[0.  0.4 0. ] -0.0037072775371934453\n",
      "[0.2 0.  0.8] 0.7967364114245992\n",
      "[0.  0.6 0.2] 0.19673283903097083\n",
      "[0.  0.2 0.8] 0.7967364114245993\n",
      "[0.  0.8 0.4] 0.3962528529285646\n",
      "[0.2 1.  0.6] 0.7962528529285579\n",
      "[0.  1.  0.6] 0.599732412804788\n",
      "[0.  0.  0.4] 0.3951279981479135\n",
      "[0.  0.4 1. ] 0.997374230653248\n",
      "[0.2 0.  0.6] 0.5968751997046994\n",
      "[0.2 0.4 1. ] 1.0764035394098912\n",
      "[0.  0.2 0.6] 0.5968751997046986\n",
      "[0.  0.4 0.8] 0.7965785824662885\n",
      "[0.2 0.6 1. ] 1.1165850057800875\n",
      "[0.  0.6 1. ] 0.9974022351008058\n",
      "[0.  0.  0.2] 0.1950854681576532\n",
      "[0.2 0.  0.4] 0.3968842638395435\n",
      "[0.  0.2 0.4] 0.3968842638395435\n",
      "[0.2 0.6 0. ] 0.11667730860103398\n",
      "[0.  0.6 0. ] -0.0036375132649267006\n",
      "[0.  0.4 0.6] 0.5966680745786419\n",
      "[0.  0.8 0.2] 0.1963212280161968\n",
      "[0.2 1.  0.4] 0.5961947937348213\n",
      "[0.  1.  0.4] 0.3997324128047887\n",
      "[0.  0.6 0.8] 0.7965250010389142\n",
      "[0.  0.8 1. ] 0.9974753623747727\n",
      "[0.2 0.8 1. ] 1.1567226703879538\n",
      "[0. 0. 0.] -0.004878369026367133\n",
      "[0.2 0.  0.2] 0.19691590388385485\n",
      "[0.  0.2 0.2] 0.19691590388385502\n",
      "[0.2 0.8 0. ] 0.15672267038796137\n",
      "[0.  0.8 0. ] -0.004454006139930316\n",
      "[0.2 1.  0.2] 0.3962423992728617\n",
      "[0.  1.  0.2] 0.19991718287721294\n",
      "[0.  0.4 0.4] 0.3966499817806312\n",
      "[0.  0.6 0.6] 0.5966997962974536\n",
      "[0.  0.8 0.8] 0.7962423992728715\n",
      "[0. 1. 1.] 0.999757667120532\n",
      "[0.2 1.  1. ] 1.1955459938600634\n",
      "[0.2 1.  0. ] 0.1974753623747776\n",
      "[0. 1. 0.] -0.00024233287946489004\n",
      "[0.2 0.  0. ] -0.003673752289167766\n",
      "[0.2 0.2 0. ] 0.036802936730830356\n",
      "[0.  0.2 0. ] -0.00367375228916795\n",
      "[0.  0.4 0.2] 0.1967199300465466\n",
      "[0.  0.6 0.4] 0.39670576897190934\n",
      "[0.  0.8 0.6] 0.5961947937348283\n",
      "[0.2 1.  0.8] 0.9963212280161889\n",
      "[0.  1.  0.8] 0.7999171828772099\n"
     ]
    }
   ],
   "source": [
    "from dolfin import *\n",
    "import numpy as np\n",
    "\n",
    "class boundary(SubDomain):\n",
    "    def inside(self, x, on_boundary):\n",
    "        return x[0] < 0.4 and on_boundary\n",
    "\n",
    "mesh = UnitCubeMesh(5,5,5)\n",
    "V = FunctionSpace(mesh, \"CG\", 1)\n",
    "v = project(Expression(\"x[0]*x[1]+x[2]\", degree=2),V)\n",
    "mf = MeshFunction(\"size_t\", mesh, mesh.topology().dim()-1, 0)\n",
    "boundary().mark(mf, 1)\n",
    "v2d = vertex_to_dof_map(V)\n",
    "dofs = []\n",
    "for facet in facets(mesh):\n",
    "    if mf[facet.index()] == 1:\n",
    "        vertices = facet.entities(0)\n",
    "        for vertex in vertices:\n",
    "            dofs.append(v2d[vertex])\n",
    "\n",
    "unique_dofs = np.array(list(set(dofs)), dtype=np.int32)\n",
    "boundary_coords = V.tabulate_dof_coordinates()[unique_dofs]\n",
    "for i, dof in enumerate(unique_dofs):\n",
    "    print(boundary_coords[i], v.vector()[dof])\n"
   ]
  },
  {
   "cell_type": "code",
   "execution_count": 7,
   "metadata": {},
   "outputs": [
    {
     "data": {
      "text/plain": [
       "(216, 3)"
      ]
     },
     "execution_count": 7,
     "metadata": {},
     "output_type": "execute_result"
    }
   ],
   "source": [
    "boundary_coords.shape\n",
    "coor=V.tabulate_dof_coordinates()\n",
    "# v.vector()[dof]\n",
    "coor.shape"
   ]
  },
  {
   "cell_type": "code",
   "execution_count": null,
   "metadata": {},
   "outputs": [],
   "source": []
  }
 ],
 "metadata": {
  "kernelspec": {
   "display_name": "fenicsker",
   "language": "python",
   "name": "fenicsker"
  },
  "language_info": {
   "codemirror_mode": {
    "name": "ipython",
    "version": 3
   },
   "file_extension": ".py",
   "mimetype": "text/x-python",
   "name": "python",
   "nbconvert_exporter": "python",
   "pygments_lexer": "ipython3",
   "version": "3.8.5"
  }
 },
 "nbformat": 4,
 "nbformat_minor": 4
}
